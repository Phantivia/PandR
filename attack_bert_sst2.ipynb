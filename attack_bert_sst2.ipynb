{
 "cells": [
  {
   "cell_type": "code",
   "execution_count": 1,
   "metadata": {
    "_cell_guid": "b1076dfc-b9ad-4769-8c92-a6c4dae69d19",
    "_uuid": "8f2839f25d086af736a60e9eeb907d3b93b6e0e5"
   },
   "outputs": [],
   "source": [
    "# This Python 3 environment comes with many helpful analytics libraries installed\n",
    "# It is defined by the kaggle/python Docker image: https://github.com/kaggle/docker-python\n",
    "# For example, here's several helpful packages to load\n",
    "\n",
    "import numpy as np # linear algebra\n",
    "import pandas as pd # data processing, CSV file I/O (e.g. pd.read_csv)\n",
    "\n",
    "# Input data files are available in the read-only \"../input/\" directory\n",
    "# For example, running this (by clicking run or pressing Shift+Enter) will list all files under the input directory\n",
    "\n",
    "import os\n",
    "for dirname, _, filenames in os.walk('/kaggle/input'):\n",
    "    for filename in filenames:\n",
    "        print(os.path.join(dirname, filename))\n",
    "\n",
    "# You can write up to 20GB to the current directory (/kaggle/working/) that gets preserved as output when you create a version using \"Save & Run All\" \n",
    "# You can also write temporary files to /kaggle/temp/, but they won't be saved outside of the current session"
   ]
  },
  {
   "cell_type": "code",
   "execution_count": null,
   "metadata": {},
   "outputs": [],
   "source": []
  },
  {
   "cell_type": "code",
   "execution_count": 2,
   "metadata": {},
   "outputs": [],
   "source": [
    "import transformers\n",
    "import json\n",
    "from pathlib import Path\n",
    "import torch\n",
    "from transformers import BertForQuestionAnswering\n",
    "from torch.utils.data import DataLoader\n",
    "from transformers import AdamW\n",
    "from tqdm.auto import tqdm\n",
    "##print(\"pakages imported\")"
   ]
  },
  {
   "cell_type": "markdown",
   "metadata": {},
   "source": [
    "MyBertSelfAttention_detect"
   ]
  },
  {
   "cell_type": "code",
   "execution_count": 3,
   "metadata": {},
   "outputs": [],
   "source": [
    "BATCH_SIZE = 1\n",
    "from torch import nn\n",
    "GRAPH =[]\n",
    "from torch.nn import Softmax\n",
    "class MyBertSelfAttention_detect(nn.Module):\n",
    "    def __init__(self, config):\n",
    "        super().__init__()\n",
    "        if config.hidden_size % config.num_attention_heads != 0 and not hasattr(config, \"embedding_size\"):\n",
    "            raise ValueError(\n",
    "                \"The hidden size (%d) is not a multiple of the number of attention \"\n",
    "                \"heads (%d)\" % (config.hidden_size, config.num_attention_heads)\n",
    "            )\n",
    "\n",
    "        self.num_attention_heads = config.num_attention_heads\n",
    "        self.attention_head_size = int(config.hidden_size / config.num_attention_heads)\n",
    "        self.all_head_size = self.num_attention_heads * self.attention_head_size\n",
    "\n",
    "        self.query = nn.Linear(config.hidden_size, self.all_head_size)\n",
    "        self.key = nn.Linear(config.hidden_size, self.all_head_size)\n",
    "        self.value = nn.Linear(config.hidden_size, self.all_head_size)\n",
    "        self.config = config\n",
    "        \n",
    "        self.perturb_on = False\n",
    "        self.perturb = None\n",
    "        self.sofm = Softmax(dim = 0)\n",
    "        \n",
    "        self.flag = False\n",
    "        self.count = 0\n",
    "#         self.hidden_temp = None\n",
    "\n",
    "        self.dropout = nn.Dropout(config.attention_probs_dropout_prob)\n",
    "        self.position_embedding_type = getattr(config, \"position_embedding_type\", \"absolute\")\n",
    "        if self.position_embedding_type == \"relative_key\" or self.position_embedding_type == \"relative_key_query\":\n",
    "            self.max_position_embeddings = config.max_position_embeddings\n",
    "            self.distance_embedding = nn.Embedding(2 * config.max_position_embeddings - 1, self.attention_head_size)\n",
    "\n",
    "        self.is_decoder = config.is_decoder\n",
    "    #modified\n",
    "    \n",
    "    def p_init(self, input_length, start_from = None):\n",
    "        SQRT_NUMEL = (input_length * self.config.hidden_size) ** 0.5\n",
    "        self.perturb = torch.zeros((BATCH_SIZE, input_length, self.config.hidden_size), device = torch.device('cuda')).uniform_(-INIT_MAG, INIT_MAG)/SQRT_NUMEL\n",
    "        \n",
    "        self.perturb[:, 0, : ] = 0.0\n",
    "        self.perturb[:, -1, :] = 0.0\n",
    "        \n",
    "        if start_from is not None:\n",
    "            self.perturb = (self.perturb + start_from).detach()\n",
    "            \n",
    "        self.perturb.requires_grad_()\n",
    "        \n",
    "    def p_accu(self, loss, adv_lr, input_length = 5):\n",
    "        grad = torch.autograd.grad(loss, self.perturb)[0]\n",
    "\n",
    "        grad[:, 0, :] = 0.0\n",
    "        grad[:, -1, :] = 0.0\n",
    "        \n",
    "        grad = (adv_lr * grad/grad.norm()).detach()\n",
    "        \n",
    "        self.perturb = (self.perturb + grad).detach()\n",
    "\n",
    "        self.perturb.grad = None\n",
    "        self.perturb.requires_grad_()\n",
    "        \n",
    "    ##here\n",
    "    def transpose_for_scores(self, x):\n",
    "        new_x_shape = x.size()[:-1] + (self.num_attention_heads, self.attention_head_size)\n",
    "        x = x.view(*new_x_shape)\n",
    "        return x.permute(0, 2, 1, 3)\n",
    "\n",
    "    def forward(\n",
    "        self,\n",
    "        hidden_states,\n",
    "        attention_mask=None,\n",
    "        head_mask=None,\n",
    "        encoder_hidden_states=None,\n",
    "        encoder_attention_mask=None,\n",
    "        past_key_value=None,\n",
    "        output_attentions=False,\n",
    "    ):\n",
    "        if self.perturb is not None:\n",
    "            hidden_states = hidden_states + self.perturb\n",
    "        \n",
    "        mixed_query_layer = self.query(hidden_states)\n",
    "        \n",
    "        \n",
    "        # If this is instantiated as a cross-attention module, the keys\n",
    "        # and values come from an encoder; the attention mask needs to be\n",
    "        # such that the encoder's padding tokens are not attended to.\n",
    "        is_cross_attention = encoder_hidden_states is not None\n",
    "\n",
    "        if is_cross_attention and past_key_value is not None:\n",
    "            # reuse k,v, cross_attentions\n",
    "            key_layer = past_key_value[0]\n",
    "            value_layer = past_key_value[1]\n",
    "            attention_mask = encoder_attention_mask\n",
    "        elif is_cross_attention:\n",
    "            key_layer = self.transpose_for_scores(self.key(encoder_hidden_states))\n",
    "            value_layer = self.transpose_for_scores(self.value(encoder_hidden_states))\n",
    "            attention_mask = encoder_attention_mask\n",
    "        elif past_key_value is not None:\n",
    "            key_layer = self.transpose_for_scores(self.key(hidden_states))\n",
    "            value_layer = self.transpose_for_scores(self.value(hidden_states))\n",
    "            key_layer = torch.cat([past_key_value[0], key_layer], dim=2)\n",
    "            value_layer = torch.cat([past_key_value[1], value_layer], dim=2)\n",
    "        else:\n",
    "            key_layer = self.transpose_for_scores(self.key(hidden_states))\n",
    "            value_layer = self.transpose_for_scores(self.value(hidden_states))\n",
    "\n",
    "        query_layer = self.transpose_for_scores(mixed_query_layer)\n",
    "\n",
    "        if self.is_decoder:\n",
    "            # if cross_attention save Tuple(torch.Tensor, torch.Tensor) of all cross attention key/value_states.\n",
    "            # Further calls to cross_attention layer can then reuse all cross-attention\n",
    "            # key/value_states (first \"if\" case)\n",
    "            # if uni-directional self-attention (decoder) save Tuple(torch.Tensor, torch.Tensor) of\n",
    "            # all previous decoder key/value_states. Further calls to uni-directional self-attention\n",
    "            # can concat previous decoder key/value_states to current projected key/value_states (third \"elif\" case)\n",
    "            # if encoder bi-directional self-attention `past_key_value` is always `None`\n",
    "            past_key_value = (key_layer, value_layer)\n",
    "\n",
    "        # Take the dot product between \"query\" and \"key\" to get the raw attention scores.\n",
    "        attention_scores = torch.matmul(query_layer, key_layer.transpose(-1, -2))\n",
    "\n",
    "        if self.position_embedding_type == \"relative_key\" or self.position_embedding_type == \"relative_key_query\":\n",
    "            seq_length = hidden_states.size()[1]\n",
    "            position_ids_l = torch.arange(seq_length, dtype=torch.long, device=hidden_states.device).view(-1, 1)\n",
    "            position_ids_r = torch.arange(seq_length, dtype=torch.long, device=hidden_states.device).view(1, -1)\n",
    "            distance = position_ids_l - position_ids_r\n",
    "            positional_embedding = self.distance_embedding(distance + self.max_position_embeddings - 1)\n",
    "            positional_embedding = positional_embedding.to(dtype=query_layer.dtype)  # fp16 compatibility\n",
    "\n",
    "            if self.position_embedding_type == \"relative_key\":\n",
    "                relative_position_scores = torch.einsum(\"bhld,lrd->bhlr\", query_layer, positional_embedding)\n",
    "                attention_scores = attention_scores + relative_position_scores\n",
    "            elif self.position_embedding_type == \"relative_key_query\":\n",
    "                relative_position_scores_query = torch.einsum(\"bhld,lrd->bhlr\", query_layer, positional_embedding)\n",
    "                relative_position_scores_key = torch.einsum(\"bhrd,lrd->bhlr\", key_layer, positional_embedding)\n",
    "                attention_scores = attention_scores + relative_position_scores_query + relative_position_scores_key\n",
    "\n",
    "        attention_scores = attention_scores / math.sqrt(self.attention_head_size)\n",
    "            \n",
    "        if attention_mask is not None:\n",
    "            # Apply the attention mask is (precomputed for all layers in BertModel forward() function)\n",
    "            attention_scores = attention_scores + attention_mask\n",
    "\n",
    "        # Normalize the attention scores to probabilities.\n",
    "        #modified\n",
    "\n",
    "        attention_probs = nn.Softmax(dim=-1)(attention_scores)\n",
    "\n",
    "\n",
    "        # This is actually dropping out entire tokens to attend to, which might\n",
    "        # seem a bit unusual, but is taken from the original Transformer paper.\n",
    "        attention_probs = self.dropout(attention_probs)\n",
    "\n",
    "        # Mask heads if we want to\n",
    "        if head_mask is not None:\n",
    "            attention_probs = attention_probs * head_mask\n",
    "\n",
    "        context_layer = torch.matmul(attention_probs, value_layer)\n",
    "\n",
    "        context_layer = context_layer.permute(0, 2, 1, 3).contiguous()\n",
    "        new_context_layer_shape = context_layer.size()[:-2] + (self.all_head_size,)\n",
    "        context_layer = context_layer.view(*new_context_layer_shape)\n",
    "\n",
    "        outputs = (context_layer, attention_probs) if output_attentions else (context_layer,)\n",
    "\n",
    "        if self.is_decoder:\n",
    "            outputs = outputs + (past_key_value,)\n",
    "        return outputs"
   ]
  },
  {
   "cell_type": "code",
   "execution_count": 4,
   "metadata": {},
   "outputs": [],
   "source": [
    "GLUE_TASKS = [\"cola\", \"mnli\", \"mnli-mm\", \"mrpc\", \"qnli\", \"qqp\", \"rte\", \"sst2\", \"stsb\", \"wnli\"]\n",
    "task = 'sst2'\n",
    "model_checkpoint = \"bert-base-uncased\"\n",
    "model_state = None\n",
    "tokenizer = AutoTokenizer.from_pretrained(model_checkpoint, use_fast=True)"
   ]
  },
  {
   "cell_type": "code",
   "execution_count": 5,
   "metadata": {},
   "outputs": [
    {
     "data": {
      "application/vnd.jupyter.widget-view+json": {
       "model_id": "c2c315a7cdf642c3a674788591351859",
       "version_major": 2,
       "version_minor": 0
      },
      "text/plain": [
       "HBox(children=(FloatProgress(value=0.0, max=68.0), HTML(value='')))"
      ]
     },
     "metadata": {},
     "output_type": "display_data"
    },
    {
     "name": "stdout",
     "output_type": "stream",
     "text": [
      "\n"
     ]
    },
    {
     "data": {
      "application/vnd.jupyter.widget-view+json": {
       "model_id": "118336e9885440ee916dfa04ce5969d8",
       "version_major": 2,
       "version_minor": 0
      },
      "text/plain": [
       "HBox(children=(FloatProgress(value=0.0, max=1.0), HTML(value='')))"
      ]
     },
     "metadata": {},
     "output_type": "display_data"
    },
    {
     "name": "stdout",
     "output_type": "stream",
     "text": [
      "\n"
     ]
    },
    {
     "data": {
      "application/vnd.jupyter.widget-view+json": {
       "model_id": "52639b74938149c5ad1be841a2f813e6",
       "version_major": 2,
       "version_minor": 0
      },
      "text/plain": [
       "HBox(children=(FloatProgress(value=0.0, max=2.0), HTML(value='')))"
      ]
     },
     "metadata": {},
     "output_type": "display_data"
    },
    {
     "name": "stdout",
     "output_type": "stream",
     "text": [
      "\n"
     ]
    }
   ],
   "source": [
    "from datasets import load_dataset, load_metric\n",
    "import datasets\n",
    "\n",
    "from transformers import BertForSequenceClassification\n",
    "import math\n",
    "\n",
    "from datasets import load_dataset, load_metric\n",
    "import datasets\n",
    "actual_task = \"mnli\" if task == \"mnli-mm\" else task\n",
    "dataset = datasets.DatasetDict.load_from_disk(\"glue/\" + actual_task) if task != \"imdb\" else datasets.load_from_disk('imdb')\n",
    "\n",
    "if task == \"imdb\":\n",
    "    del dataset['unsupervised']\n",
    "\n",
    "from transformers import AutoTokenizer, AutoModelForMaskedLM, BertForSequenceClassification\n",
    "\n",
    "tokenizer = AutoTokenizer.from_pretrained(model_checkpoint, use_fast=True)\n",
    "\n",
    "task_to_keys = {  \n",
    "            \"sst2\": (\"sentence\", None),\n",
    "            \"imdb\": (\"text\", None)\n",
    "        }\n",
    "\n",
    "sentence1_key, sentence2_key = task_to_keys[task]\n",
    "\n",
    "def preprocess_function(examples):\n",
    "    if sentence2_key is None:\n",
    "        return tokenizer(examples[sentence1_key], truncation=True)\n",
    "    return tokenizer(examples[sentence1_key], examples[sentence2_key], truncation=True)\n",
    "\n",
    "encoded_dataset = dataset.map(preprocess_function, batched=True)\n",
    "encoded_dataset.set_format(\"numpy\")"
   ]
  },
  {
   "cell_type": "code",
   "execution_count": 6,
   "metadata": {},
   "outputs": [
    {
     "name": "stderr",
     "output_type": "stream",
     "text": [
      "Some weights of the model checkpoint at bert-base-uncased were not used when initializing BertForSequenceClassification: ['cls.predictions.bias', 'cls.predictions.transform.dense.weight', 'cls.predictions.transform.dense.bias', 'cls.predictions.decoder.weight', 'cls.seq_relationship.weight', 'cls.seq_relationship.bias', 'cls.predictions.transform.LayerNorm.weight', 'cls.predictions.transform.LayerNorm.bias']\n",
      "- This IS expected if you are initializing BertForSequenceClassification from the checkpoint of a model trained on another task or with another architecture (e.g. initializing a BertForSequenceClassification model from a BertForPreTraining model).\n",
      "- This IS NOT expected if you are initializing BertForSequenceClassification from the checkpoint of a model that you expect to be exactly identical (initializing a BertForSequenceClassification model from a BertForSequenceClassification model).\n",
      "Some weights of BertForSequenceClassification were not initialized from the model checkpoint at bert-base-uncased and are newly initialized: ['classifier.weight', 'classifier.bias']\n",
      "You should probably TRAIN this model on a down-stream task to be able to use it for predictions and inference.\n"
     ]
    }
   ],
   "source": [
    "from transformers import BertForSequenceClassification\n",
    "model = BertForSequenceClassification.from_pretrained(model_checkpoint, num_labels = num_labels, mirror = \"bfsu\")\n",
    "model.load_state_dict(torch.load(\"SST2-fullfinetuned-bert-8848.pth\"))\n",
    "torch.save(model.state_dict(),\"temp_state.pth\")\n",
    "\n",
    "for i in model.bert.encoder.layer:\n",
    "    p_layer = MyBertSelfAttention_detect(model.config)\n",
    "    i.attention.self = p_layer\n",
    "\n",
    "model.load_state_dict(torch.load('temp_state.pth'))\n",
    "torch.cuda.empty_cache()\n",
    "if torch.cuda.is_available():\n",
    "    model.cuda()"
   ]
  },
  {
   "cell_type": "code",
   "execution_count": 7,
   "metadata": {},
   "outputs": [
    {
     "name": "stderr",
     "output_type": "stream",
     "text": [
      "Some weights of the model checkpoint at bert-base-uncased were not used when initializing BertForMaskedLM: ['cls.seq_relationship.weight', 'cls.seq_relationship.bias']\n",
      "- This IS expected if you are initializing BertForMaskedLM from the checkpoint of a model trained on another task or with another architecture (e.g. initializing a BertForSequenceClassification model from a BertForPreTraining model).\n",
      "- This IS NOT expected if you are initializing BertForMaskedLM from the checkpoint of a model that you expect to be exactly identical (initializing a BertForSequenceClassification model from a BertForSequenceClassification model).\n"
     ]
    },
    {
     "data": {
      "text/plain": [
       "BertOnlyMLMHead(\n",
       "  (predictions): BertLMPredictionHead(\n",
       "    (transform): BertPredictionHeadTransform(\n",
       "      (dense): Linear(in_features=768, out_features=768, bias=True)\n",
       "      (LayerNorm): LayerNorm((768,), eps=1e-12, elementwise_affine=True)\n",
       "    )\n",
       "    (decoder): Linear(in_features=768, out_features=30522, bias=True)\n",
       "  )\n",
       ")"
      ]
     },
     "execution_count": 7,
     "metadata": {},
     "output_type": "execute_result"
    }
   ],
   "source": [
    "from transformers import AutoModelForMaskedLM\n",
    "mlm_model = AutoModelForMaskedLM.from_pretrained(model_checkpoint, mirror = \"bfsu\")\n",
    "probe_layer = mlm_model.cls\n",
    "probe_layer.cuda()"
   ]
  },
  {
   "cell_type": "code",
   "execution_count": 8,
   "metadata": {},
   "outputs": [],
   "source": [
    "victim_model = BertForSequenceClassification(model.config)\n",
    "victim_model.load_state_dict(torch.load(\"SST2-fullfinetuned-bert-8848.pth\"))\n",
    "if torch.cuda.is_available():\n",
    "    victim_model.cuda()"
   ]
  },
  {
   "cell_type": "code",
   "execution_count": 9,
   "metadata": {},
   "outputs": [],
   "source": [
    "import tensorflow_hub as hub\n",
    "import tensorflow as tf\n",
    "class USE:\n",
    "    def __init__(self):\n",
    "        self.embed = hub.load(\"use\")\n",
    "\n",
    "    def count_use(self, sentence1, sentence2):\n",
    "        embeddings = self.embed([sentence1, sentence2])\n",
    "\n",
    "        vector1 = tf.reshape(embeddings[0], [512, 1])\n",
    "        vector2 = tf.reshape(embeddings[1], [512, 1])\n",
    "\n",
    "        return tf.matmul(vector1, vector2, transpose_a=True).numpy()[0][0]\n",
    "use = USE()"
   ]
  },
  {
   "cell_type": "code",
   "execution_count": 10,
   "metadata": {},
   "outputs": [],
   "source": [
    "from torch.nn import CrossEntropyLoss, MSELoss\n",
    "class Prober():\n",
    "    \n",
    "    def __init__(self, tokenizer, probe_layer, victim_model):\n",
    "        self.celoss = CrossEntropyLoss()\n",
    "        self.tokenizer = tokenizer\n",
    "        self.probe_layer = probe_layer\n",
    "        self.victim = victim_model\n",
    "        \n",
    "        if torch.cuda.is_available():\n",
    "            self.probe_layer.cuda()\n",
    "            \n",
    "    def decode(self, hidden, origin_ids = None):\n",
    "        probe = self.probe_layer(hidden)\n",
    "        \n",
    "        _probe = probe.detach()\n",
    "        _probe[:, :,0:1000] = 0.0\n",
    "        \n",
    "        \n",
    "        reconstruction_ids = torch.topk(_probe, 1, -1)[1].squeeze(-1)\n",
    "        \n",
    "        reconstruction_ids[:, 0] = 101\n",
    "        reconstruction_ids[:,-1] = 102\n",
    "        \n",
    "        if origin_ids is None:\n",
    "            return reconstruction_ids\n",
    "        \n",
    "        origin_ids = origin_ids[:, 1:-1].long().cuda()\n",
    "        probe = probe[:, 1:-1, :]\n",
    "\n",
    "        \n",
    "        decode_loss = self.celoss(probe.reshape(-1, tokenizer.vocab_size), origin_ids.reshape(-1))\n",
    "\n",
    "        return decode_loss, reconstruction_ids\n",
    "        \n",
    "    \n",
    "    def attack(self, ids, answer_label):\n",
    "        \n",
    "        ids = ids.unsqueeze(0).cuda()\n",
    "        attention_mask = (torch.zeros(ids.shape) + 1).long().cuda()\n",
    "        \n",
    "        output = self.victim(input_ids = ids, attention_mask = attention_mask, labels = answer_label)\n",
    "        logits = output[1]\n",
    "\n",
    "        adv_answer = logits.argmax(dim = 1)\n",
    "        \n",
    "        ids = ids[:, 1:-1]\n",
    "        reconstruction_tokens = self.tokenizer.batch_decode(ids)\n",
    "        reconstruction_sentence = self.tokenizer.convert_tokens_to_string(reconstruction_tokens)\n",
    "#         print(reconstruction_sentence)\n",
    "\n",
    "#         print(adv_answer,answer_label, \"LOGITS: \", logits )\n",
    "        reconstruction_sentence = None\n",
    "        \n",
    "        \n",
    "        if not adv_answer.equal(answer_label):\n",
    "            #print(\"CALL\")\n",
    "            reconstruction_tokens = self.tokenizer.batch_decode(ids)\n",
    "            reconstruction_sentence = self.tokenizer.convert_tokens_to_string(reconstruction_tokens)\n",
    "            \n",
    "        return reconstruction_sentence\n",
    "    \n",
    "prober = Prober(tokenizer, probe_layer, victim_model)"
   ]
  },
  {
   "cell_type": "code",
   "execution_count": 11,
   "metadata": {},
   "outputs": [],
   "source": [
    "from tqdm import tqdm\n",
    "\n",
    "def cal_metric(s1, s2):\n",
    "    _use = use.count_use(s1,s2)\n",
    "    return _use,0,0\n",
    "\n",
    "def attack_step(dataset = None, encoded_dataset = None, index = 0, \n",
    "                adv_lr = 3e-2, adv_steps = 3, start_layer = 0, prober = None, \n",
    "                scheduler = None, SEED = 114514):\n",
    "    \n",
    "    encoded_dataset.set_format(\"numpy\")\n",
    "    \n",
    "    def model_forward(model, input_ids, attention_mask, labels):\n",
    "        output = model(input_ids=input_ids, attention_mask=attention_mask, labels = labels, output_hidden_states = True)\n",
    "        loss = output[0]\n",
    "        hidden = output[2][HIDDEN_INDEX]\n",
    "        logits = output[1]\n",
    "        return loss,logits,hidden\n",
    "    \n",
    "    def random_cover(ids):\n",
    "        import random \n",
    "        rindex = random.randint(1, input_length- 2)\n",
    "        ids[:, rindex] = 103\n",
    "        return ids\n",
    "    \n",
    "    \n",
    "\n",
    "    ori_sentence = dataset['validation'][index]['sentence']\n",
    "    input_ids = torch.tensor(encoded_dataset['validation']['input_ids'][index]).unsqueeze(0)\n",
    "    attention_mask = torch.tensor(encoded_dataset['validation']['attention_mask'][index]).unsqueeze(0)\n",
    "    label = torch.tensor(encoded_dataset['validation']['label'][index]).unsqueeze(0).cuda()\n",
    "    \n",
    "    #print(\"LABEL\", label)\n",
    "    correct_test = prober.attack(input_ids[0], label)\n",
    "    #print(correct_test)\n",
    "    if correct_test is not None:\n",
    "        return None\n",
    "    \n",
    "    #BATCH SET UP\n",
    "    input_length = len(input_ids[0])\n",
    "    ori_input_ids = torch.tensor(input_ids.tolist() * BATCH_SIZE).cuda()\n",
    "    attention_mask = torch.tensor(attention_mask.tolist() * BATCH_SIZE).cuda()\n",
    "    batch_labels = torch.tensor(label.tolist() * BATCH_SIZE).cuda()\n",
    "    \n",
    "    input_ids = random_cover(ori_input_ids.clone())\n",
    "    \n",
    "    p_layer = model.bert.encoder.layer[start_layer].attention.self\n",
    "    p_layer.perturb = None\n",
    "        \n",
    "    \n",
    "    successed = False\n",
    "    query = 0\n",
    "    pll = 0\n",
    "    I = 0\n",
    "    use = 0\n",
    "    bpstep = 0\n",
    "    rec_token_acc = 0\n",
    "    adv_sentence = None\n",
    "    \n",
    "    id_base = []\n",
    "    id_base.append(input_ids.tolist())\n",
    "\n",
    "    torch.manual_seed(SEED)\n",
    "    origin_loss, origin_logits, origin_hidden = model_forward(model, input_ids=input_ids, attention_mask=attention_mask, labels = batch_labels)\n",
    "    reconstruct_ids = prober.decode(origin_hidden)\n",
    "\n",
    "    rec_token_acc = ((input_ids == reconstruct_ids).sum() / input_ids.numel()).tolist()\n",
    "    \n",
    "    for i in reconstruct_ids:\n",
    "        if not i.tolist() in id_base:\n",
    "            id_base.append(i.tolist())\n",
    "            query += 1\n",
    "            adv_sentence = prober.attack(i, label)\n",
    "            if adv_sentence is not None:\n",
    "                use,I,ppl = cal_metric(ori_sentence, adv_sentence)\n",
    "                #print(\"USE = \", use)\n",
    "                if use > USE_GATE:\n",
    "                    successed = True\n",
    "                    bpstep = -1\n",
    "                    successed = True\n",
    "                    return{\n",
    "                        'successed': successed,\n",
    "                        'query': query,\n",
    "                        'pll': pll,\n",
    "                        'I': I,\n",
    "                        'use': use,\n",
    "                        'bpstep': bpstep,\n",
    "                        'token_acc': rec_token_acc,\n",
    "                        'ori_sentence': ori_sentence,\n",
    "                        'adv_sentence': adv_sentence\n",
    "                    }\n",
    "\n",
    "    torch.manual_seed(SEED)\n",
    "    p_layer.p_init(input_length)\n",
    "    torch.manual_seed(SEED)\n",
    "    loss, logits, hidden = model_forward(model, input_ids=input_ids, attention_mask=attention_mask, labels = batch_labels)\n",
    "    decode_loss, init_ids = prober.decode(hidden, origin_ids = input_ids)\n",
    "    \n",
    "    for i in init_ids:\n",
    "        if not i.tolist() in id_base:\n",
    "            id_base.append(i.tolist())\n",
    "            query += 1\n",
    "            adv_sentence = prober.attack(i, label)\n",
    "            if adv_sentence is not None:\n",
    "                use,I,ppl = cal_metric(ori_sentence, adv_sentence)\n",
    "                if use > USE_GATE:\n",
    "                    successed = True\n",
    "                    bpstep = -1\n",
    "                    successed = True\n",
    "                    return{\n",
    "                        'successed': successed,\n",
    "                        'query': query,\n",
    "                        'pll': pll,\n",
    "                        'I': I,\n",
    "                        'use': use,\n",
    "                        'bpstep': bpstep,\n",
    "                        'token_acc': rec_token_acc,\n",
    "                        'ori_sentence': ori_sentence,\n",
    "                        'adv_sentence': adv_sentence\n",
    "                    }\n",
    "\n",
    "\n",
    "\n",
    "    max_use = 0\n",
    "    \n",
    "    for seg_step in range(SEG_STEP):\n",
    "        lr = adv_lr\n",
    "        for i in (range(adv_steps)):\n",
    "\n",
    "            projected = p_layer.p_accu(loss * LOSS_WEIGHT - decode_loss * DECODE_WEIGHT, lr, input_length = input_length)\n",
    "\n",
    "            torch.manual_seed(SEED)\n",
    "            loss, logits, hidden =  model_forward(model, input_ids=input_ids, attention_mask=attention_mask, labels = batch_labels)\n",
    "            decode_loss, p_ids = prober.decode(hidden, origin_ids = input_ids)\n",
    "\n",
    "            for p_id in p_ids:\n",
    "                if not p_id.tolist() in id_base:\n",
    "                    id_base.append(p_id.tolist())\n",
    "                    query += 1\n",
    "                    adv_sentence = prober.attack(p_id, label)\n",
    "\n",
    "                    if adv_sentence is not None:\n",
    "                        use,I,ppl = cal_metric(ori_sentence, adv_sentence)\n",
    "#                         print(adv_sentence, \" USE = \",use)\n",
    "                        if use> max_use:\n",
    "                            max_use = use\n",
    "                        if use > USE_GATE:\n",
    "                            successed = True\n",
    "                            bpstep = seg_step * adv_steps + i\n",
    "                            successed = True\n",
    "                            return{\n",
    "                                'successed': successed,\n",
    "                                'query': query,\n",
    "                                'pll': pll,\n",
    "                                'I': I,\n",
    "                                'use': use,\n",
    "                                'bpstep': bpstep,\n",
    "                                'token_acc': rec_token_acc,\n",
    "                                'ori_sentence': ori_sentence,\n",
    "                                'adv_sentence': adv_sentence\n",
    "                            }\n",
    "#         print(\"################RESET!####################\", \" D_LOSS = \", (loss-origin_loss).norm(), \"BASED: \", len(id_base), \"Query; \", query)\n",
    "        input_ids = random_cover(ori_input_ids.clone())\n",
    "#         print(input_ids.tolist())\n",
    "        torch.manual_seed(SEED + seg_step)\n",
    "        p_layer.p_init(input_length, start_from = None)\n",
    "        loss, logits, hidden = model_forward(model, input_ids=input_ids, attention_mask=attention_mask, labels = batch_labels)\n",
    "    torch.cuda.empty_cache()\n",
    "    return{\n",
    "        'successed': successed,\n",
    "        'query': query,\n",
    "        'pll': pll,\n",
    "        'I': I,\n",
    "        'use': max_use,\n",
    "        'bpstep': bpstep,\n",
    "        'token_acc': rec_token_acc,\n",
    "        'ori_sentence': ori_sentence,\n",
    "        'adv_sentence': adv_sentence\n",
    "    }\n"
   ]
  },
  {
   "cell_type": "code",
   "execution_count": 12,
   "metadata": {},
   "outputs": [],
   "source": [
    "import gc\n",
    "gc.collect()\n",
    "torch.cuda.empty_cache()"
   ]
  },
  {
   "cell_type": "code",
   "execution_count": 13,
   "metadata": {
    "tags": []
   },
   "outputs": [
    {
     "name": "stderr",
     "output_type": "stream",
     "text": [
      "  0%|          | 0/512 [00:00<?, ?it/s]/mistgpu/site-packages/datasets/formatting/formatting.py:163: VisibleDeprecationWarning: Creating an ndarray from ragged nested sequences (which is a list-or-tuple of lists-or-tuples-or ndarrays with different lengths or shapes) is deprecated. If you meant to do this, you must specify 'dtype=object' when creating the ndarray\n",
      "  return np.array(array, copy=False, **self.np_array_kwargs)\n",
      "100%|██████████| 512/512 [15:46:38<00:00, 110.93s/it]   \n"
     ]
    }
   ],
   "source": [
    "model.cuda()\n",
    "import seaborn as sb\n",
    "import gc\n",
    "\n",
    "gc.collect()\n",
    "torch.cuda.empty_cache()\n",
    "SEG_STEP = 20\n",
    "\n",
    "HIDDEN_INDEX = 6\n",
    "\n",
    "INIT_MAG = 1\n",
    "\n",
    "BATCH_SIZE = 1\n",
    "USE_GATE = 0.85\n",
    "SEED = 114514\n",
    "\n",
    "\n",
    "LOSS_WEIGHT = 1\n",
    "DECODE_WEIGHT = 0.01\n",
    "\n",
    "\n",
    "def exp_lr(adv_lr, step):\n",
    "    if step > 200:\n",
    "        adv_lr -= 1/400\n",
    "    return adv_lr\n",
    "\n",
    "suca = []\n",
    "alla = []\n",
    "import random\n",
    "random.seed(SEED)\n",
    "for i in tqdm(range(360, 872)):\n",
    "    gc.collect()\n",
    "    torch.cuda.empty_cache()\n",
    "    ret = attack_step(\n",
    "        dataset = dataset, \n",
    "        encoded_dataset = encoded_dataset, \n",
    "        index = i, \n",
    "        adv_lr = 3,\n",
    "        adv_steps = 80, \n",
    "        start_layer = 0, \n",
    "        prober = prober,\n",
    "        scheduler = None,\n",
    "        SEED = SEED\n",
    "        )\n",
    "#     print(ret)\n",
    "    if ret is not None:\n",
    "        if ret['successed']:\n",
    "            suca.append(ret)\n",
    "        alla.append(ret)\n",
    "    if i%50 == 0:\n",
    "        torch.save(alla, \"alla_\" + str(i) + \".pt\")\n",
    "        torch.save(suca, \"suca_\" + str(i) + \".pt\")"
   ]
  },
  {
   "cell_type": "code",
   "execution_count": 28,
   "metadata": {},
   "outputs": [
    {
     "name": "stdout",
     "output_type": "stream",
     "text": [
      "0.8445455280177268\n",
      "0.9830713422007256\n"
     ]
    }
   ],
   "source": [
    "bar = 14\n",
    "a, b = torch.load(\"alla_360_max.pt\"), torch.load(\"alla_360.pt\")\n",
    "a = a + b\n",
    "u = []\n",
    "for i in a:\n",
    "    u.append(i['use'])\n",
    "u = np.array(u)\n",
    "u.sort()\n",
    "print(u[bar:].mean())\n",
    "print(len(u[bar:]) / len(u))"
   ]
  },
  {
   "cell_type": "code",
   "execution_count": 25,
   "metadata": {},
   "outputs": [
    {
     "name": "stdout",
     "output_type": "stream",
     "text": [
      "[0.         0.         0.         0.         0.         0.\n",
      " 0.11973839 0.15819868 0.16728514 0.24110807 0.36887535 0.43068224\n",
      " 0.46899372 0.47712532 0.50218004 0.52828711 0.54027247 0.54826546\n",
      " 0.55597126 0.5621475  0.5694474  0.57619441 0.59698433 0.59794867\n",
      " 0.60188508 0.60448515 0.60958749 0.61451757 0.61475134 0.61877185\n",
      " 0.62260664 0.62719339 0.62798494 0.62989533 0.63401198 0.63421291\n",
      " 0.63599801 0.63626885 0.6400823  0.64238256 0.64243925 0.65159428\n",
      " 0.65238571 0.65536582 0.65564203 0.65751892 0.66293842 0.6630832\n",
      " 0.66408968 0.66522497 0.66570926 0.67116171 0.67176443 0.67457181\n",
      " 0.67637318 0.67688411 0.67794168 0.68090737 0.68320179 0.68624228\n",
      " 0.68979019 0.69128823 0.69170111 0.69171625 0.6928575  0.69395685\n",
      " 0.69482309 0.69796842 0.70005667 0.70261425 0.70529479 0.70785606\n",
      " 0.70833898 0.71080804 0.71102357 0.71688354 0.71731168 0.71789485\n",
      " 0.71823514 0.71849447 0.72000331 0.72260892 0.72410166 0.72445285\n",
      " 0.72498155 0.72584897 0.72599447 0.7260015  0.72633398 0.72887337\n",
      " 0.7294178  0.72979701 0.73419893 0.73671371 0.7382127  0.73874807\n",
      " 0.73907954 0.73945022 0.74078536 0.74121165 0.7451247  0.74641454\n",
      " 0.7464214  0.74706143 0.75127923 0.75128305 0.75300711 0.75349569\n",
      " 0.7537365  0.75375611 0.75439042 0.75572675 0.75585109 0.75789464\n",
      " 0.75822455 0.75951838 0.75954694 0.75961882 0.76102555 0.76144177\n",
      " 0.76214904 0.76755339 0.76831335 0.76866037 0.76907736 0.77045304\n",
      " 0.77050602 0.77058679 0.77103883 0.77172768 0.77304012 0.77324903\n",
      " 0.77344918 0.77552754 0.77578807 0.77594638 0.77649486 0.77753407\n",
      " 0.77774918 0.78101337 0.78111464 0.78132814 0.78148776 0.78206462\n",
      " 0.78484207 0.78588897 0.78592169 0.78606367 0.78645188 0.78650451\n",
      " 0.78728318 0.7888459  0.78923118 0.78997135 0.79136086 0.79237348\n",
      " 0.79275262 0.79301906 0.79449373 0.7948302  0.79494882 0.79551953\n",
      " 0.79555631 0.79605514 0.79757661 0.79824531 0.79978818 0.80052304\n",
      " 0.80063868 0.80120414 0.8019551  0.80425644 0.80428416 0.80477118\n",
      " 0.80654997 0.80696368 0.80708873 0.80717748 0.8076933  0.8081556\n",
      " 0.80877817 0.80894148 0.8099001  0.81019098 0.81149524 0.81151783\n",
      " 0.81208485 0.81271303 0.81281233 0.81292886 0.81344706 0.8134923\n",
      " 0.81420082 0.81434274 0.81439525 0.81463182 0.81515253 0.81548584\n",
      " 0.81551331 0.8156659  0.81703442 0.81769252 0.81820101 0.81889212\n",
      " 0.81901753 0.81917602 0.81928241 0.81959069 0.82017595 0.82056689\n",
      " 0.82083148 0.82106972 0.82108426 0.82138067 0.82162005 0.82188714\n",
      " 0.82304335 0.82406837 0.82456702 0.82463229 0.82472408 0.82595003\n",
      " 0.82597786 0.82602239 0.82665324 0.82692468 0.82751787 0.8278386\n",
      " 0.82786012 0.82898575 0.82939005 0.82943237 0.8297298  0.82982296\n",
      " 0.83009619 0.83017015 0.83034426 0.83208394 0.83248627 0.83248657\n",
      " 0.83310783 0.83364356 0.83441561 0.83513671 0.83662605 0.83702362\n",
      " 0.83729213 0.83732158 0.83764136 0.83781123 0.83800936 0.83827686\n",
      " 0.83900261 0.83931738 0.83934844 0.83966762 0.8396821  0.83991069\n",
      " 0.84035403 0.84069169 0.84096843 0.84103823 0.84290028 0.84301203\n",
      " 0.84359378 0.84419405 0.84425509 0.84505421 0.84532106 0.84547633\n",
      " 0.84591353 0.84643412 0.84678864 0.84787536 0.8481673  0.84845483\n",
      " 0.84859526 0.84930086 0.84945965 0.84981847 0.85009503 0.85011518\n",
      " 0.8501215  0.85018456 0.85025841 0.8503207  0.85050023 0.85051042\n",
      " 0.85052675 0.85053229 0.85053682 0.85056955 0.85067111 0.8507058\n",
      " 0.8507877  0.85085106 0.85088992 0.8509056  0.85130852 0.8514663\n",
      " 0.85169858 0.85176772 0.85186136 0.85201383 0.85223383 0.85225648\n",
      " 0.85233742 0.85239178 0.85247988 0.85251498 0.85254097 0.85272002\n",
      " 0.85273343 0.85287821 0.85306245 0.85310614 0.85312533 0.8534041\n",
      " 0.85360253 0.8536188  0.85368973 0.85381788 0.85385489 0.85391361\n",
      " 0.85391927 0.85394722 0.85397571 0.8540563  0.85421979 0.85426503\n",
      " 0.85428739 0.85435736 0.85441011 0.85443807 0.8544811  0.85454476\n",
      " 0.85459501 0.85460508 0.85471559 0.8547166  0.85485786 0.85496396\n",
      " 0.85498142 0.85501754 0.85534817 0.85548782 0.85550529 0.855542\n",
      " 0.85559386 0.8556298  0.85566175 0.85568458 0.85577083 0.85577434\n",
      " 0.85586202 0.85586339 0.85591376 0.85594749 0.85595918 0.85626793\n",
      " 0.8562907  0.85630512 0.85633147 0.85649759 0.85653865 0.85664105\n",
      " 0.85679626 0.85709554 0.85712206 0.85712206 0.85717195 0.85717618\n",
      " 0.85723031 0.85725874 0.85740119 0.85749704 0.85749716 0.8574996\n",
      " 0.85755187 0.85758471 0.85776377 0.85781634 0.85788    0.85788417\n",
      " 0.85790539 0.85790551 0.85793227 0.85805535 0.8581782  0.85827059\n",
      " 0.85840219 0.85864449 0.85881656 0.85888726 0.85902756 0.85907894\n",
      " 0.85916632 0.85931277 0.8593474  0.85957503 0.85984999 0.86003441\n",
      " 0.86006355 0.8600648  0.86021721 0.8602668  0.86028653 0.86035073\n",
      " 0.86035734 0.86075974 0.86079985 0.8609283  0.86092901 0.86101794\n",
      " 0.8611514  0.86140943 0.86158764 0.86173695 0.86179376 0.86182219\n",
      " 0.86193871 0.86201072 0.86213326 0.86228126 0.86232078 0.86234927\n",
      " 0.86238372 0.86248338 0.86250073 0.86279511 0.86284101 0.86284232\n",
      " 0.86286259 0.86294448 0.86306095 0.8632412  0.86339802 0.86355358\n",
      " 0.86358863 0.86372107 0.86406022 0.86414587 0.86417711 0.86450976\n",
      " 0.86453784 0.86455524 0.86463231 0.86467057 0.8648268  0.86483186\n",
      " 0.86516172 0.86518121 0.86525887 0.86526    0.86526346 0.86534643\n",
      " 0.86540771 0.86550605 0.86569631 0.86571229 0.86589521 0.86602676\n",
      " 0.86624318 0.86626136 0.86640245 0.86647946 0.86660463 0.86673468\n",
      " 0.86674261 0.86694825 0.86694837 0.8669818  0.86705178 0.86706495\n",
      " 0.86710632 0.86714727 0.86726618 0.86753196 0.86754251 0.86759782\n",
      " 0.86769223 0.86839283 0.86840564 0.86851925 0.86869097 0.86884117\n",
      " 0.86896193 0.86901206 0.86909878 0.86920726 0.86932886 0.86933017\n",
      " 0.86934501 0.86942118 0.86949444 0.86965621 0.8697077  0.86972731\n",
      " 0.86990267 0.87010574 0.87014782 0.87032235 0.8703295  0.87044597\n",
      " 0.87050986 0.87058628 0.87059867 0.87074739 0.8707912  0.87085879\n",
      " 0.87104678 0.87121528 0.87148845 0.87151891 0.87153959 0.87161577\n",
      " 0.87162602 0.87178069 0.87181246 0.8721503  0.87217808 0.87226629\n",
      " 0.87237477 0.8726843  0.87271947 0.87282932 0.8729412  0.87303078\n",
      " 0.87317824 0.87331307 0.87340021 0.87344968 0.87352598 0.87353349\n",
      " 0.87357348 0.87385827 0.87408191 0.8743881  0.8744297  0.87451786\n",
      " 0.87452185 0.8745352  0.87459171 0.87467486 0.87483281 0.87496084\n",
      " 0.87505925 0.87512279 0.87574017 0.87576741 0.87580049 0.87598521\n",
      " 0.87602246 0.87621343 0.87636435 0.87641394 0.87672532 0.87696099\n",
      " 0.87708855 0.87752587 0.87753361 0.8775413  0.8776657  0.87777966\n",
      " 0.87799084 0.87823045 0.87877542 0.87956071 0.87967539 0.87974024\n",
      " 0.8800357  0.88007998 0.88033128 0.88037348 0.88050097 0.88062561\n",
      " 0.88072884 0.88120109 0.88134658 0.88134903 0.88138074 0.88148195\n",
      " 0.88168794 0.88173819 0.88189399 0.88212514 0.88234758 0.88242686\n",
      " 0.88248187 0.88269782 0.88290942 0.88330358 0.88350046 0.88392317\n",
      " 0.88417661 0.88420218 0.8846215  0.88463748 0.88471067 0.88475388\n",
      " 0.88528639 0.88531047 0.88557452 0.88567436 0.88589817 0.88589942\n",
      " 0.88601828 0.8861115  0.88644946 0.88655227 0.8867842  0.88698053\n",
      " 0.88705415 0.88713455 0.88741684 0.88758343 0.88760704 0.8876189\n",
      " 0.88765818 0.88769925 0.88791418 0.88842183 0.88848358 0.88854384\n",
      " 0.88891011 0.88896388 0.88906574 0.88924623 0.88929081 0.88943619\n",
      " 0.88947695 0.88950157 0.88979876 0.89004612 0.89006591 0.89046162\n",
      " 0.89047593 0.89061946 0.89077723 0.89077741 0.89090389 0.8909049\n",
      " 0.89182055 0.8920061  0.89200974 0.89202797 0.89213592 0.89230913\n",
      " 0.89272869 0.89279234 0.8928284  0.89282894 0.89316195 0.89333498\n",
      " 0.89367056 0.89367354 0.89367545 0.89393359 0.893996   0.89404011\n",
      " 0.89414024 0.89429218 0.89452225 0.89473629 0.89503133 0.89543062\n",
      " 0.89548743 0.89557242 0.89561093 0.89561999 0.89562798 0.89567459\n",
      " 0.89577526 0.89583862 0.89584363 0.89590824 0.89628917 0.89633077\n",
      " 0.89642197 0.89647418 0.89694089 0.89696896 0.89714938 0.89757055\n",
      " 0.89800215 0.89801669 0.8983534  0.89837646 0.89860892 0.89871722\n",
      " 0.89901674 0.89901674 0.8992846  0.8995024  0.89951795 0.89968228\n",
      " 0.89969939 0.89976716 0.89979726 0.89993292 0.89999688 0.90016294\n",
      " 0.90020305 0.90064412 0.90085453 0.90174127 0.90255749 0.90324402\n",
      " 0.90376657 0.90394616 0.90417147 0.90422058 0.90515447 0.90563542\n",
      " 0.90573418 0.90598756 0.90601671 0.9060843  0.90608692 0.90647\n",
      " 0.90657294 0.90663087 0.90776187 0.90795571 0.90815467 0.90819973\n",
      " 0.90871924 0.90972096 0.90988481 0.91021961 0.91045499 0.91079557\n",
      " 0.9108727  0.91132462 0.91177273 0.91187054 0.9119032  0.91192853\n",
      " 0.91204923 0.91236925 0.91353846 0.91396987 0.91404271 0.91439837\n",
      " 0.91463417 0.91486418 0.91497105 0.91507626 0.915227   0.91524458\n",
      " 0.91563243 0.91572297 0.91588187 0.91590911 0.91606712 0.91627419\n",
      " 0.91675603 0.91686237 0.91694641 0.91696966 0.91731316 0.91762185\n",
      " 0.91763699 0.91805959 0.91901946 0.91935796 0.92002803 0.92009765\n",
      " 0.92055893 0.92064172 0.92070651 0.92076248 0.92200863 0.92225254\n",
      " 0.92238152 0.92340022 0.92432642 0.92497885 0.92532116 0.92600811\n",
      " 0.92611706 0.92967874 0.9300046  0.93038803 0.93052894 0.93059194\n",
      " 0.93097669 0.9319579  0.93239874 0.93470514 0.9349159  0.9366405\n",
      " 0.93835723 0.94043481 0.94290841 0.94364184 0.94503939 0.94627005\n",
      " 0.94627857 0.94650137 0.94747835 0.94779205 0.94781971 0.94805455\n",
      " 0.94810063 0.94840491 0.94935495 0.94976008 0.95345515 0.95511729\n",
      " 0.95695329 0.95738387 0.95789444 0.95929456 0.96020627 0.96122968\n",
      " 0.96284461 0.96421266 0.96705055 0.97108996 0.97217184 0.97248429\n",
      " 0.99999982 0.99999994 1.         1.         1.00000012]\n"
     ]
    }
   ],
   "source": [
    "print(u)"
   ]
  },
  {
   "cell_type": "code",
   "execution_count": 15,
   "metadata": {},
   "outputs": [
    {
     "name": "stderr",
     "output_type": "stream",
     "text": [
      "<string>:6: RuntimeWarning: Converting input from bool to <class 'numpy.uint8'> for compatibility.\n",
      "<string>:6: RuntimeWarning: Converting input from bool to <class 'numpy.uint8'> for compatibility.\n"
     ]
    },
    {
     "name": "stdout",
     "output_type": "stream",
     "text": [
      "{'successed': 0.6381156316916489, 'query': 194.4295302013423, 'pll': 0.0, 'I': 0.0, 'use': 0.88549477, 'bpstep': 340.741610738255, 'token_acc': 0.8222047304547073}\n"
     ]
    },
    {
     "data": {
      "image/png": "[encoded data removed]",
      "text/plain": [
       "<Figure size 360x360 with 1 Axes>"
      ]
     },
     "metadata": {
      "needs_background": "light"
     },
     "output_type": "display_data"
    },
    {
     "data": {
      "image/png": "[encoded data removed]",
      "text/plain": [
       "<Figure size 360x360 with 1 Axes>"
      ]
     },
     "metadata": {
      "needs_background": "light"
     },
     "output_type": "display_data"
    },
    {
     "data": {
      "image/png": "[encoded data removed]",
      "text/plain": [
       "<Figure size 360x360 with 1 Axes>"
      ]
     },
     "metadata": {
      "needs_background": "light"
     },
     "output_type": "display_data"
    },
    {
     "data": {
      "image/png": "[encoded data removed]",
      "text/plain": [
       "<Figure size 360x360 with 1 Axes>"
      ]
     },
     "metadata": {
      "needs_background": "light"
     },
     "output_type": "display_data"
    },
    {
     "data": {
      "image/png": "[encoded data removed]",
      "text/plain": [
       "<Figure size 360x360 with 1 Axes>"
      ]
     },
     "metadata": {
      "needs_background": "light"
     },
     "output_type": "display_data"
    },
    {
     "data": {
      "image/png": "[encoded data removed]",
      "text/plain": [
       "<Figure size 360x360 with 1 Axes>"
      ]
     },
     "metadata": {
      "needs_background": "light"
     },
     "output_type": "display_data"
    },
    {
     "data": {
      "image/png": "[encoded data removed]",
      "text/plain": [
       "<Figure size 360x360 with 1 Axes>"
      ]
     },
     "metadata": {
      "needs_background": "light"
     },
     "output_type": "display_data"
    }
   ],
   "source": [
    "\n",
    "import seaborn as sb\n",
    "stat = {\n",
    "        'successed': [],\n",
    "        'query': [],\n",
    "        'pll': [],\n",
    "        'I': [],\n",
    "        'use': [],\n",
    "        'bpstep': [],\n",
    "        'token_acc': [],\n",
    "    }\n",
    "for key in stat.keys():\n",
    "    for data in suca:\n",
    "        stat[key].append(data[key])\n",
    "    sb.displot(stat[key])\n",
    "    if key != 'successed':\n",
    "        stat[key] = np.array(stat[key]).mean()\n",
    "    else:\n",
    "        stat[key] = len(suca)/len(alla)\n",
    "print(stat)"
   ]
  },
  {
   "cell_type": "code",
   "execution_count": 16,
   "metadata": {},
   "outputs": [
    {
     "name": "stdout",
     "output_type": "stream",
     "text": [
      "0.8300139058020807\n",
      "0.9957173447537473\n"
     ]
    }
   ],
   "source": [
    "u = []\n",
    "bar = 2\n",
    "for data in alla:\n",
    "    u.append(data['use'])\n",
    "u.sort()\n",
    "u = np.array(u)\n",
    "print(u[bar:].mean())\n",
    "print(len(u[bar:]) / len(u))"
   ]
  },
  {
   "cell_type": "code",
   "execution_count": 17,
   "metadata": {},
   "outputs": [
    {
     "name": "stdout",
     "output_type": "stream",
     "text": [
      "{'successed': True, 'query': 1, 'pll': 0, 'I': 0, 'use': 0.97108996, 'bpstep': -1, 'token_acc': 0.9428571462631226, 'ori_sentence': 'while the resident evil games may have set new standards for thrills , suspense , and gore for video games , the movie really only succeeds in the third of these . ', 'adv_sentence': 'while the resident evil games may have set new standards for thrills lacks suspense, and gore for video games, the movie really always succeeds in the third of these.'}\n",
      "{'successed': True, 'query': 240, 'pll': 0, 'I': 0, 'use': 1.0000001, 'bpstep': 463, 'token_acc': 0.6666666865348816, 'ori_sentence': 'oh come on . ', 'adv_sentence': 'oh come on ;'}\n",
      "{'successed': True, 'query': 8, 'pll': 0, 'I': 0, 'use': 0.96421266, 'bpstep': 7, 'token_acc': 0.7659574151039124, 'ori_sentence': \"not only are the special effects and narrative flow much improved , and daniel radcliffe more emotionally assertive this time around as harry , but the film conjures the magic of author j.k. rowling 's books . \", 'adv_sentence': 'not that were the special effects and narrative flow much improved, and daniel radcliffe more emotionally assertive this time around as harry, but the film preicates the magic of author jes kym rowling s s books.'}\n",
      "{'successed': True, 'query': 285, 'pll': 0, 'I': 0, 'use': 0.9569533, 'bpstep': 492, 'token_acc': 0.8536584973335266, 'ori_sentence': \"as a rumor of angels reveals itself to be a sudsy tub of supernatural hokum , not even ms. redgrave 's noblest efforts can redeem it from hopeless sentimentality . \", 'adv_sentence': \"as a rumor of angels reveals itself to be a sudsy tub of supernatural hokum, not even here. redgrave's noblest efforts can redeem it from hopeless sentimentality.\"}\n",
      "{'successed': True, 'query': 14, 'pll': 0, 'I': 0, 'use': 0.9724843, 'bpstep': 103, 'token_acc': 0.875, 'ori_sentence': 'light years / several warp speeds / levels and levels of dilithium crystals better than the pitiful insurrection . ', 'adv_sentence': 'light years by several warp speeds / levels and levels of dilithium crystals better than the damnediful insurrection.'}\n",
      "{'successed': True, 'query': 45, 'pll': 0, 'I': 0, 'use': 1.0, 'bpstep': 80, 'token_acc': 0.875, 'ori_sentence': 'fancy a real downer ? ', 'adv_sentence': 'fancy a real downer.'}\n",
      "{'successed': True, 'query': 58, 'pll': 0, 'I': 0, 'use': 0.9602063, 'bpstep': 97, 'token_acc': 0.8636363744735718, 'ori_sentence': 'the magic of the film lies not in the mysterious spring but in the richness of its performances . ', 'adv_sentence': 'the magic of the film lies not in the mysterious spring but in low richness of its performances.'}\n",
      "{'successed': True, 'query': 10, 'pll': 0, 'I': 0, 'use': 0.99999994, 'bpstep': 80, 'token_acc': 0.9000000357627869, 'ori_sentence': 'good film , but very glum . ', 'adv_sentence': 'good film, but very glum.'}\n",
      "{'successed': True, 'query': 13, 'pll': 0, 'I': 0, 'use': 0.95345515, 'bpstep': 18, 'token_acc': 0.75, 'ori_sentence': 'director of photography benoit delhomme shot the movie in delicious colors , and the costumes and sets are grand . ', 'adv_sentence': 'director of photography benoit delhomme shot the movie in the colors, and not costumes and sets are grand.'}\n",
      "{'successed': True, 'query': 1, 'pll': 0, 'I': 0, 'use': 0.96705055, 'bpstep': -1, 'token_acc': 0.8947368264198303, 'ori_sentence': 'less dizzying than just dizzy , the jaunt is practically over before it begins . ', 'adv_sentence': 'less dizzying than just dizzy, the jaunt was practically over before it begins.'}\n",
      "{'successed': True, 'query': 984, 'pll': 0, 'I': 0, 'use': 0.9573839, 'bpstep': 1313, 'token_acc': 0.8947368264198303, 'ori_sentence': 'a film about a young man finding god that is accessible and touching to the marrow . ', 'adv_sentence': 'a film about a young man finding god that no accessible and touching to the marrow.'}\n",
      "{'successed': True, 'query': 149, 'pll': 0, 'I': 0, 'use': 0.97217184, 'bpstep': 173, 'token_acc': 0.8666667342185974, 'ori_sentence': 'a compelling spanish film about the withering effects of jealousy in the life of a young monarch whose sexual passion for her husband becomes an obsession . ', 'adv_sentence': 'a typical spanish film about the withering effects of jealousy in the life of a young monarch whose sexual passion for her husband became an obsession.'}\n"
     ]
    }
   ],
   "source": [
    "for i in alla:\n",
    "    if i['use'] > 0.95:\n",
    "        print(i)"
   ]
  },
  {
   "cell_type": "code",
   "execution_count": 18,
   "metadata": {},
   "outputs": [
    {
     "data": {
      "text/plain": [
       "467"
      ]
     },
     "execution_count": 18,
     "metadata": {},
     "output_type": "execute_result"
    }
   ],
   "source": [
    "len(alla)"
   ]
  },
  {
   "cell_type": "code",
   "execution_count": 19,
   "metadata": {},
   "outputs": [
    {
     "data": {
      "text/plain": [
       "0.9803921568627451"
      ]
     },
     "execution_count": 19,
     "metadata": {},
     "output_type": "execute_result"
    }
   ],
   "source": [
    "100/102"
   ]
  }
 ],
 "metadata": {
  "kernelspec": {
   "display_name": "Python 3",
   "language": "python",
   "name": "python3"
  },
  "language_info": {
   "codemirror_mode": {
    "name": "ipython",
    "version": 3
   },
   "file_extension": ".py",
   "mimetype": "text/x-python",
   "name": "python",
   "nbconvert_exporter": "python",
   "pygments_lexer": "ipython3",
   "version": "3.6.9"
  }
 },
 "nbformat": 4,
 "nbformat_minor": 4
}
